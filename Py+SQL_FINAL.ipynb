{
 "cells": [
  {
   "cell_type": "markdown",
   "metadata": {},
   "source": [
    "# Proyecto Music Stream\n",
    "\n",
    "## Fase 2: CONEXIÓN ENTRE PYTHON Y MYSQLWORKBENCH\n",
    "\n",
    "1. Conexión al servidor de MySQL\n",
    "2. Creación de las tablas\n",
    "3. Inserción de los datos en las tablas\n",
    "\n"
   ]
  },
  {
   "cell_type": "markdown",
   "metadata": {},
   "source": [
    "## 1. Conexión al servidor"
   ]
  },
  {
   "cell_type": "code",
   "execution_count": 13,
   "metadata": {},
   "outputs": [],
   "source": [
    "#Importamos las librerias necesarias: mysql.connector y pandas\n",
    "\n",
    "import mysql.connector\n",
    "from mysql.connector import errorcode\n",
    "import pandas as pd "
   ]
  },
  {
   "cell_type": "code",
   "execution_count": 14,
   "metadata": {},
   "outputs": [],
   "source": [
    "#Nos conectamos con el servidor de MySQLWorkbench de Adalab utilizando los datos de 'user', 'password' y 'host' \n",
    "\n",
    "cnx = mysql.connector.connect(\n",
    "    user='root', \n",
    "    password='AlumnaAdalab',\n",
    "    host='localhost')\n",
    "\n",
    "# Creamos el cursor, mycursor y lo definimos:\n",
    "mycursor = cnx.cursor()"
   ]
  },
  {
   "cell_type": "code",
   "execution_count": 15,
   "metadata": {},
   "outputs": [],
   "source": [
    "# Creamos el esquema MusicStream dentro de MySQLWorkbench:\n",
    "mycursor.execute(\"CREATE DATABASE IF NOT EXISTS MusicStream\")\n",
    "\n",
    "# Confirmamos los cambios realizados usando cnx.commit ():\n",
    "cnx.commit()"
   ]
  },
  {
   "cell_type": "markdown",
   "metadata": {},
   "source": [
    "## 2. Creación de las tablas"
   ]
  },
  {
   "cell_type": "code",
   "execution_count": 16,
   "metadata": {},
   "outputs": [],
   "source": [
    "# Usamos la base de datos MusicStream utilizando mycursor.execute ():\n",
    "\n",
    "mycursor.execute(\"USE MusicStream\")"
   ]
  },
  {
   "cell_type": "code",
   "execution_count": 17,
   "metadata": {},
   "outputs": [],
   "source": [
    "#Creamos ambas tablas vacias, tanto Spotify, como LastFM, con sus columnas correspondientes para rellenar.\n",
    "#Nota: en las columnas 'Track' de tabla Spotify, y 'Playcount'/'Listeners' de la tabla LastFM:\n",
    "#tuvimos que poner VARCHAR (1000), y BIGINT porque si no, nos daba error que el contenido era demasiado largo. \n",
    "\n",
    "mycursor.execute('''CREATE TABLE IF NOT EXISTS Spotify (\n",
    "                 Artist VARCHAR (500),\n",
    "                 Genre VARCHAR (500),\n",
    "                 Album VARCHAR (500),\n",
    "                 Track VARCHAR (1000),     \n",
    "                 Year INT,\n",
    "                 Spotify_id VARCHAR (2000)\n",
    "                 )\n",
    "                 \n",
    "                 ''')\n",
    "\n",
    "mycursor.execute('''CREATE TABLE IF NOT EXISTS LastFM (\n",
    "                 Artist VARCHAR (500),\n",
    "                 Biography TEXT,\n",
    "                 Playcount BIGINT,\n",
    "                 Listeners BIGINT,\n",
    "                 Similars TEXT\n",
    "                 )\n",
    "                 \n",
    "                 ''')\n",
    "\n",
    "cnx.commit()\n",
    "\n"
   ]
  },
  {
   "cell_type": "code",
   "execution_count": 18,
   "metadata": {},
   "outputs": [
    {
     "name": "stdout",
     "output_type": "stream",
     "text": [
      "Datos insertados correctamente.\n",
      "Conexión cerrada.\n"
     ]
    }
   ],
   "source": [
    "\n",
    "# Consultas de inserción \n",
    "query_spotify = \"\"\"\n",
    "    INSERT INTO Spotify (Artist, Genre, Album, Track, Year, Spotify_id)  \n",
    "    VALUES (%s, %s, %s, %s, %s, %s)\n",
    "\"\"\"\n",
    "\n",
    "query_lastfm = \"\"\"\n",
    "    INSERT INTO LastFM (Artist, Biography, Playcount, Listeners, Similars)  \n",
    "    VALUES (%s, %s, %s, %s, %s)\n",
    "\"\"\"\n",
    "\n",
    "#Con las variables df_spotify y df_dataframe, usando pandas (pd), leemos los ficheros .csv para extraer los datos.\n",
    "#fill.na se utiliza para la limpieza final de los datos dentro del dataframe. \n",
    "#Reemplaza los valores faltantes o nulos (normalmente representados como NaN en Python, y None en SQL). \n",
    "#Usando fill.na SQL puede interpretar correctamente los datos que vienen de Python. \n",
    "#SQL no reconoce valores faltantes o nulos representados como NaN y por eso los estamos reemplazando con este operador. \n",
    "\n",
    "df_spotify = pd.read_csv(\"spotify_data.csv\").fillna(\"\")  \n",
    "df_lastfm = pd.read_csv(\"lastfm_data.csv\").fillna(\"\")  \n",
    "\n",
    "#Definimos la variable de spotify_data, convirtiéndola a una lista de listas\n",
    "#Para hacerlo, se utiliza el operador values.tolist()\n",
    "\n",
    "spotify_data = df_spotify[['artist', 'genre', 'album', 'track', 'year', 'spotify_id']].values.tolist()\n",
    "lastfm_data = df_lastfm[['Artist', 'Biography', 'Playcount', 'Listeners', 'Similars']].values.tolist()\n",
    "\n",
    "# Inserción de datos de las ambas tablas en MySQL Workbench (utilizando executemany)\n",
    "\n",
    "mycursor.executemany(query_spotify, spotify_data)\n",
    "mycursor.executemany(query_lastfm, lastfm_data)\n",
    "\n",
    "#Guardamos los cambios\n",
    "\n",
    "cnx.commit()\n",
    "print(\"Datos insertados correctamente.\")\n",
    "\n",
    "mycursor.close()  # Cerramos el cursor\n",
    "cnx.close()     # Cerramos la conexión\n",
    "\n",
    "print(\"Conexión cerrada.\") #Nos aseguramos que la conexión esté cerrada.\n"
   ]
  }
 ],
 "metadata": {
  "kernelspec": {
   "display_name": "base",
   "language": "python",
   "name": "python3"
  },
  "language_info": {
   "codemirror_mode": {
    "name": "ipython",
    "version": 3
   },
   "file_extension": ".py",
   "mimetype": "text/x-python",
   "name": "python",
   "nbconvert_exporter": "python",
   "pygments_lexer": "ipython3",
   "version": "3.12.7"
  }
 },
 "nbformat": 4,
 "nbformat_minor": 2
}
